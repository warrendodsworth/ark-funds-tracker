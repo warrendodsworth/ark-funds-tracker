{
 "cells": [
  {
   "cell_type": "code",
   "execution_count": null,
   "metadata": {},
   "outputs": [],
   "source": [
    "import base64\n",
    "\n",
    "key = \"\"\n",
    "secret = \"\"\n",
    "\n",
    "keySecret='{key}:{secret}'.format(key=key,secret=secret)\n",
    "keySecretBase64 = base64.b64encode(keySecret.encode('ascii')) \n",
    "print('Base64 Key:Secret', keySecretBase64)\n",
    "\n",
    "headers = {}\n",
    "headers['Authorization'] = 'Basic ' + keySecretBase64.decode(\"utf-8\")\n",
    "print(headers)\n"
   ]
  }
 ],
 "metadata": {
  "language_info": {
   "name": "python"
  },
  "orig_nbformat": 4
 },
 "nbformat": 4,
 "nbformat_minor": 2
}
